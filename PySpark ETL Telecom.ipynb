{
 "cells": [
  {
   "cell_type": "markdown",
   "metadata": {},
   "source": [
    "# Environment Configuration\n",
    "\n",
    "Since I was using **Hortonworks Sandbox HDP 2.6.5** without any previous configuration, I will detail the proper steps to configure the system and the different programs in order to run the ETL process succesfully."
   ]
  },
  {
   "cell_type": "markdown",
   "metadata": {},
   "source": [
    "## Jupyter Notebook\n",
    "\n",
    "To be able to run the `jupyter notebook` command, after Jupyter installation I needed to add its location to `~/.bashrc`:\n",
    "  - `export PATH=$PATH:~/.local/bin`"
   ]
  },
  {
   "cell_type": "markdown",
   "metadata": {},
   "source": [
    "## Python and PySpark\n",
    "\n",
    "Since this sandbox has different versions of Spark (1.6.3 and 2.3.0) and Python (2.7.5 and 3.6.5), I had to define which one of them I wanted to use:\n",
    "```\n",
    "export SPARK_HOME=/usr/hdp/current/spark2-client\n",
    "export PATH=$SPARK_HOME/bin:$PATH\n",
    "export PYSPARK_PYTHON=python3.6\n",
    "export PYSPARK_DRIVER_PYTHON=python3.6\n",
    "```"
   ]
  },
  {
   "cell_type": "markdown",
   "metadata": {},
   "source": [
    "### Required Python modules\n",
    "\n",
    "I downloaded and installed **pip** module using Python 3 interpreter:\n",
    "  1. `curl https://bootstrap.pypa.io/get-pip.py -o get-pip.py`\n",
    "  1. `python3.6 get-pip.py`\n",
    "\n",
    "To later install **py4j** and **findspark** modules: \n",
    "  - `pip install py4j findspark`\n"
   ]
  },
  {
   "cell_type": "markdown",
   "metadata": {},
   "source": [
    "### Findspark\n",
    "Now we can use **findspark** (https://github.com/minrk/findspark) to be able to import **pyspark** module.<br>\n",
    "Findspark sets some environment variables and adds dependencies to `sys.path`."
   ]
  },
  {
   "cell_type": "code",
   "execution_count": 1,
   "metadata": {},
   "outputs": [],
   "source": [
    "import findspark\n",
    "findspark.init()"
   ]
  },
  {
   "cell_type": "markdown",
   "metadata": {},
   "source": [
    "One final check before start the PySpark execution:"
   ]
  },
  {
   "cell_type": "code",
   "execution_count": 2,
   "metadata": {},
   "outputs": [
    {
     "name": "stdout",
     "output_type": "stream",
     "text": [
      "PATH: /root/.local/bin:/usr/hdp/current/spark2-client/bin:/usr/lib64/qt-3.3/bin:/usr/local/sbin:/usr/local/bin:/usr/sbin:/usr/bin:/root/.local/bin:/root/bin\n",
      "\n",
      "SPARK_HOME: /usr/hdp/current/spark2-client\n",
      "PYSPARK_PYTHON: python3.6\n",
      "PYSPARK_DRIVER_PYTHON: python3.6\n"
     ]
    }
   ],
   "source": [
    "import os\n",
    "print(\"PATH: %s\\n\" % os.environ['PATH'])\n",
    "print(\"SPARK_HOME: %s\" % os.environ['SPARK_HOME'])\n",
    "print(\"PYSPARK_PYTHON: %s\" % os.environ['PYSPARK_PYTHON'])\n",
    "print(\"PYSPARK_DRIVER_PYTHON: %s\" % os.environ['PYSPARK_DRIVER_PYTHON'])"
   ]
  },
  {
   "cell_type": "markdown",
   "metadata": {},
   "source": [
    "## HDFS: Disabling secure mode"
   ]
  },
  {
   "cell_type": "markdown",
   "metadata": {},
   "source": [
    "By default, HDFS comes with safe mode enabled, and this doesn't allow to create a **SparkSession**. <br> We can disable disable safe mode with the following command:"
   ]
  },
  {
   "cell_type": "code",
   "execution_count": 3,
   "metadata": {},
   "outputs": [
    {
     "name": "stdout",
     "output_type": "stream",
     "text": [
      "Safe mode is OFF\n"
     ]
    }
   ],
   "source": [
    "%%sh\n",
    "sudo -u hdfs hdfs dfsadmin -safemode leave"
   ]
  },
  {
   "cell_type": "markdown",
   "metadata": {},
   "source": [
    "# Datasets\n",
    "\n",
    "I downloaded a total of 4 files from the following URL: \n",
    "https://www.kaggle.com/marcodena/mobile-phone-activity"
   ]
  },
  {
   "cell_type": "markdown",
   "metadata": {},
   "source": [
    "**ISTAT_census_variables_2011.csv**<br>\n",
    "STAT census 2011 variables, aggregated by Province (NUTS3)<br>\n",
    "Original description: http://www.istat.it/it/archivio/104317"
   ]
  },
  {
   "cell_type": "markdown",
   "metadata": {},
   "source": [
    "**Italian_provinces.geojson**<br>\n",
    "Geojson file about the geography of Italian provinces."
   ]
  },
  {
   "cell_type": "markdown",
   "metadata": {},
   "source": [
    "**mi-to-provinces-2013-11-01.csv**<br>\n",
    "Hourly phone calls, SMS and Internet interaction between single squares of the Milan Grid and the other Italian provinces. Date: 11-01-2013\n",
    "  - **datetime**: Date in yyyy-mm-dd HH:ii format\n",
    "  - **CellID**: identification string of a given square of Milan GRID\n",
    "  - **provinceName**: the name of the Italian province\n",
    "  - **cell2Province**: value representing the interaction between the Square id and the Province. It is proportional to the number of calls exchanged between callers, which are located in the Square id, and receivers located in the Province\n",
    "  - **Province2cell**: Value representing the interaction between the Square id and the Province. It is proportional to the number of calls exchanged between callers, which are located in the Province, and receivers located in the Square id"
   ]
  },
  {
   "cell_type": "markdown",
   "metadata": {},
   "source": [
    "**sms-call-internet-mi-2013-11-01.csv**<br>\n",
    "Hourly phone calls, SMS and Internet communication of 11-01-2013\n",
    "  - **datetime**: Date in yyyy-mm-dd HH:ii format\n",
    "  - **CellID**: identification string of a given square of Milan GRID\n",
    "  - **countrycode**: the phone country code of the nation\n",
    "  - **smsin**: activity proportional to the amount of received SMSs inside a given Square id and during a given Time interval. The SMSs are sent from the nation identified by the Country code\n",
    "  - **smsout**: activity proportional to the amount of sent SMSs inside a given Square id during a given Time interval. The SMSs are received in the nation identified by the Country code\n",
    "  - **callin**: activity proportional to the amount of received calls inside the Square id during a given Time interval. The calls are issued from the nation identified by the Country code\n",
    "  - **callout**: activity proportional to the amount of issued calls inside a given Square id during a given Time interval. The calls are received in the nation identified by the Country code\n",
    "  - **internet**: number of CDRs generated inside a given Square id during a given Time interval. The Internet traffic is initiated from the nation identified by the Country code"
   ]
  },
  {
   "cell_type": "markdown",
   "metadata": {},
   "source": [
    "Once I have downloaded all the dataset files to my host machine, the next steps were the following:\n",
    "\n",
    "1. **Send the files to the VM** (Hortonworks Sandbox HDP 2.6.5): `scp -P 2222 file1 file2 root@sandbox.hdp.com:/tmp`\n",
    "1. **Create the HDFS directory** path in which you are going to load the files: `hdfs dfs -mkdir -p /data/telecom`\n",
    "1. **Copy the files to Hadoop filesystem** (previously, go to `/tmp` directory): `hdfs dfs -put file1 file2 /data/telecom`\n",
    "1. **Check** that the files are properly loaded into Hadoop: `hdfs dfs -ls /data/telecom/file*`\n",
    "\n",
    "**SSH trick**: To avoid typing the password every time you connect to the VM, the SSH must be configured between the host and VM.<br>\n",
    "More info: https://www.ssh.com/ssh/keygen/"
   ]
  },
  {
   "cell_type": "markdown",
   "metadata": {},
   "source": [
    "---"
   ]
  },
  {
   "cell_type": "markdown",
   "metadata": {},
   "source": [
    "# PySpark ETL"
   ]
  },
  {
   "cell_type": "markdown",
   "metadata": {},
   "source": [
    "## Create SparkSession"
   ]
  },
  {
   "cell_type": "markdown",
   "metadata": {},
   "source": [
    "Starting from Spark 2.0, it is possible to create a **SparkSession**, which is essentially a combination of **SQLContext**, **HiveContext** and **StreamingContext**. "
   ]
  },
  {
   "cell_type": "code",
   "execution_count": 4,
   "metadata": {
    "scrolled": true
   },
   "outputs": [],
   "source": [
    "from pyspark.sql import SparkSession\n",
    "from pyspark.sql.functions import col, explode, initcap  # Some functions that later will be useful\n",
    "\n",
    "spark = SparkSession \\\n",
    "        .builder \\\n",
    "        .appName(\"PySparkETLTelecom\") \\\n",
    "        .getOrCreate()"
   ]
  },
  {
   "cell_type": "markdown",
   "metadata": {},
   "source": [
    "## Loading the datasets"
   ]
  },
  {
   "cell_type": "markdown",
   "metadata": {},
   "source": [
    "### ISTAT_census_variables_2011.csv"
   ]
  },
  {
   "cell_type": "code",
   "execution_count": 5,
   "metadata": {},
   "outputs": [],
   "source": [
    "censusDF = spark.read.load(\"/data/telecom/ISTAT_census_variables_2011.csv\",\n",
    "                    format='csv',\n",
    "                    sep = ',',\n",
    "                    header='true',\n",
    "                    inferSchema='true').cache()"
   ]
  },
  {
   "cell_type": "markdown",
   "metadata": {},
   "source": [
    "A lot of the information in this dataset is related to population, but since we only need the province names, we can ignore the rest.<br>\n",
    "Apart from this, we can also create a **view** so it can be used later in **SparkSQL**."
   ]
  },
  {
   "cell_type": "code",
   "execution_count": 6,
   "metadata": {},
   "outputs": [],
   "source": [
    "censusDF = censusDF.select(\"PROVINCIA\")  # Overwrites DataFrame selecting only provinces field.\n",
    "censusDF.createOrReplaceTempView(\"census\")  # Creation of temporal view"
   ]
  },
  {
   "cell_type": "markdown",
   "metadata": {},
   "source": [
    "`Describe` function can be useful to check quickly how many rows the DataFrame has, and some other properties more related to numbers than strings:"
   ]
  },
  {
   "cell_type": "code",
   "execution_count": 7,
   "metadata": {},
   "outputs": [
    {
     "name": "stdout",
     "output_type": "stream",
     "text": [
      "+-------+---------+\n",
      "|summary|PROVINCIA|\n",
      "+-------+---------+\n",
      "|  count|      110|\n",
      "|   mean|     null|\n",
      "| stddev|     null|\n",
      "|    min|Agrigento|\n",
      "|    max|  Viterbo|\n",
      "+-------+---------+\n",
      "\n"
     ]
    }
   ],
   "source": [
    "censusDF.describe().show()"
   ]
  },
  {
   "cell_type": "markdown",
   "metadata": {},
   "source": [
    "And since we have now the view created, we can use **SparkSQL** to execute some query on it:"
   ]
  },
  {
   "cell_type": "code",
   "execution_count": 8,
   "metadata": {
    "scrolled": true
   },
   "outputs": [
    {
     "name": "stdout",
     "output_type": "stream",
     "text": [
      "+-----------+\n",
      "|  PROVINCIA|\n",
      "+-----------+\n",
      "|Alessandria|\n",
      "|       Asti|\n",
      "|     Biella|\n",
      "|      Cuneo|\n",
      "|     Novara|\n",
      "+-----------+\n",
      "only showing top 5 rows\n",
      "\n"
     ]
    }
   ],
   "source": [
    "spark.sql(\"select * from census\").show(5)"
   ]
  },
  {
   "cell_type": "markdown",
   "metadata": {},
   "source": [
    "### Italian_provinces.geojson"
   ]
  },
  {
   "cell_type": "code",
   "execution_count": 9,
   "metadata": {},
   "outputs": [],
   "source": [
    "# Load Italian_provinces.geojson\n",
    "provincesDF = spark.read.load(\"/data/telecom/Italian_provinces.geojson\",\n",
    "                    format='json',\n",
    "                    multiline=True,\n",
    "                    inferSchema='true').cache()"
   ]
  },
  {
   "cell_type": "markdown",
   "metadata": {},
   "source": [
    "We didn't have information about this json file, but we can use the function `printSchema` to understand better how the data is structured in this field: "
   ]
  },
  {
   "cell_type": "code",
   "execution_count": 10,
   "metadata": {},
   "outputs": [
    {
     "name": "stdout",
     "output_type": "stream",
     "text": [
      "root\n",
      " |-- crs: struct (nullable = true)\n",
      " |    |-- properties: struct (nullable = true)\n",
      " |    |    |-- name: string (nullable = true)\n",
      " |    |-- type: string (nullable = true)\n",
      " |-- features: array (nullable = true)\n",
      " |    |-- element: struct (containsNull = true)\n",
      " |    |    |-- geometry: struct (nullable = true)\n",
      " |    |    |    |-- coordinates: array (nullable = true)\n",
      " |    |    |    |    |-- element: array (containsNull = true)\n",
      " |    |    |    |    |    |-- element: array (containsNull = true)\n",
      " |    |    |    |    |    |    |-- element: array (containsNull = true)\n",
      " |    |    |    |    |    |    |    |-- element: double (containsNull = true)\n",
      " |    |    |    |-- type: string (nullable = true)\n",
      " |    |    |-- properties: struct (nullable = true)\n",
      " |    |    |    |-- PROVINCIA: string (nullable = true)\n",
      " |    |    |    |-- SHAPE_AREA: double (nullable = true)\n",
      " |    |    |    |-- SIGLA: string (nullable = true)\n",
      " |    |    |-- type: string (nullable = true)\n",
      " |-- type: string (nullable = true)\n",
      "\n"
     ]
    }
   ],
   "source": [
    "provincesDF.printSchema()"
   ]
  },
  {
   "cell_type": "markdown",
   "metadata": {},
   "source": [
    "The structure is quite complex, and we can easily see that the root level won't be very useful:"
   ]
  },
  {
   "cell_type": "code",
   "execution_count": 11,
   "metadata": {
    "scrolled": true
   },
   "outputs": [
    {
     "name": "stdout",
     "output_type": "stream",
     "text": [
      "+--------------------+--------------------+-----------------+\n",
      "|                 crs|            features|             type|\n",
      "+--------------------+--------------------+-----------------+\n",
      "|[[urn:ogc:def:crs...|[[[[[[[460929.540...|FeatureCollection|\n",
      "+--------------------+--------------------+-----------------+\n",
      "\n"
     ]
    }
   ],
   "source": [
    "provincesDF.show()"
   ]
  },
  {
   "cell_type": "markdown",
   "metadata": {},
   "source": [
    "Again, here we are interested in provinces, so we have to get into that nested value by writing the following:"
   ]
  },
  {
   "cell_type": "code",
   "execution_count": 12,
   "metadata": {},
   "outputs": [],
   "source": [
    "provincesDF = provincesDF.select(\"features.properties.PROVINCIA\")"
   ]
  },
  {
   "cell_type": "code",
   "execution_count": 13,
   "metadata": {},
   "outputs": [
    {
     "name": "stdout",
     "output_type": "stream",
     "text": [
      "+--------------------+\n",
      "|           PROVINCIA|\n",
      "+--------------------+\n",
      "|[Novara, Torino, ...|\n",
      "+--------------------+\n",
      "\n"
     ]
    }
   ],
   "source": [
    "provincesDF.show()  # All the provinces in a single line"
   ]
  },
  {
   "cell_type": "markdown",
   "metadata": {},
   "source": [
    "But this is not exactly what we want. We are going to put each province in a single row, by using `explode` function:"
   ]
  },
  {
   "cell_type": "code",
   "execution_count": 14,
   "metadata": {},
   "outputs": [],
   "source": [
    "provincesDF = provincesDF.select(explode(\"PROVINCIA\")).withColumnRenamed(\"col\", \"PROVINCIA\")"
   ]
  },
  {
   "cell_type": "code",
   "execution_count": 15,
   "metadata": {
    "scrolled": true
   },
   "outputs": [
    {
     "name": "stdout",
     "output_type": "stream",
     "text": [
      "+-----------+\n",
      "|  PROVINCIA|\n",
      "+-----------+\n",
      "|     Novara|\n",
      "|     Torino|\n",
      "|   Vercelli|\n",
      "|      Aosta|\n",
      "|Alessandria|\n",
      "+-----------+\n",
      "only showing top 5 rows\n",
      "\n"
     ]
    }
   ],
   "source": [
    "provincesDF.show(5)"
   ]
  },
  {
   "cell_type": "markdown",
   "metadata": {},
   "source": [
    "Since this is what we want, we can now create the view:"
   ]
  },
  {
   "cell_type": "code",
   "execution_count": 16,
   "metadata": {},
   "outputs": [],
   "source": [
    "provincesDF.createOrReplaceTempView(\"provinces\")"
   ]
  },
  {
   "cell_type": "markdown",
   "metadata": {},
   "source": [
    "### Decide which file use for provinces\n",
    "\n",
    "**ISTAT_census_variables_2011.csv** VS **Italian_provinces.geojson**\n",
    "\n",
    "Now we have loaded 2 files that look very similar once we focus only in the province field."
   ]
  },
  {
   "cell_type": "code",
   "execution_count": 17,
   "metadata": {
    "scrolled": true
   },
   "outputs": [
    {
     "name": "stdout",
     "output_type": "stream",
     "text": [
      "+-------+---------+\n",
      "|summary|PROVINCIA|\n",
      "+-------+---------+\n",
      "|  count|      110|\n",
      "|   mean|     null|\n",
      "| stddev|     null|\n",
      "|    min|Agrigento|\n",
      "|    max|  Viterbo|\n",
      "+-------+---------+\n",
      "\n",
      "+-------+---------+\n",
      "|summary|PROVINCIA|\n",
      "+-------+---------+\n",
      "|  count|      110|\n",
      "|   mean|     null|\n",
      "| stddev|     null|\n",
      "|    min|Agrigento|\n",
      "|    max|  Viterbo|\n",
      "+-------+---------+\n",
      "\n"
     ]
    }
   ],
   "source": [
    "censusDF.describe().show()\n",
    "provincesDF.describe().show()"
   ]
  },
  {
   "cell_type": "markdown",
   "metadata": {},
   "source": [
    "But if we dig into their data trying to find the non-matching rows (using a **FULL OUTER JOIN**), we can see the differences:"
   ]
  },
  {
   "cell_type": "code",
   "execution_count": 18,
   "metadata": {},
   "outputs": [
    {
     "name": "stdout",
     "output_type": "stream",
     "text": [
      "+----------------------------+-------------+\n",
      "|census                      |provinces    |\n",
      "+----------------------------+-------------+\n",
      "|Bolzano/Bozen               |null         |\n",
      "|null                        |Forli'-Cesena|\n",
      "|Massa-Carrara               |null         |\n",
      "|Forlì-Cesena                |null         |\n",
      "|Valle d'Aosta/Vallée d'Aoste|null         |\n",
      "|null                        |Bolzano      |\n",
      "|null                        |Aosta        |\n",
      "|null                        |Massa Carrara|\n",
      "+----------------------------+-------------+\n",
      "\n"
     ]
    }
   ],
   "source": [
    "spark.sql(\"\"\"select c.PROVINCIA as census, p.PROVINCIA as provinces from\n",
    "                (select distinct PROVINCIA from census) c \n",
    "                    full outer join \n",
    "                (select distinct PROVINCIA from provinces) p\n",
    "                    on c.PROVINCIA = p.PROVINCIA\n",
    "                where c.PROVINCIA is null or p.PROVINCIA is null\n",
    "            \"\"\").show(truncate=False)"
   ]
  },
  {
   "cell_type": "markdown",
   "metadata": {},
   "source": [
    "By instance:\n",
    " - **Forli'-Cesena** and **Forlì-Cesena**: Business user may decide to remove all or some of the punctuation and accents, so in this case both will be equal.\n",
    " -  **Bolzano/Bozen** and **Bolzano**: This could be another false positive, that can be solved by removing everything after `/` character."
   ]
  },
  {
   "cell_type": "markdown",
   "metadata": {},
   "source": [
    "Looking at these results, we decide to keep on with **provincesDF** DataFrame, so we remove **censusDF** from cache and view tables:"
   ]
  },
  {
   "cell_type": "code",
   "execution_count": 19,
   "metadata": {},
   "outputs": [
    {
     "name": "stdout",
     "output_type": "stream",
     "text": [
      "False\n",
      "+--------+---------+-----------+\n",
      "|database|tableName|isTemporary|\n",
      "+--------+---------+-----------+\n",
      "|        |provinces|       true|\n",
      "+--------+---------+-----------+\n",
      "\n"
     ]
    }
   ],
   "source": [
    "# DataFrame\n",
    "censusDF.unpersist()\n",
    "print(censusDF.is_cached)\n",
    "\n",
    "# Temporal view\n",
    "spark.catalog.dropTempView(\"census\")\n",
    "spark.sql(\"show tables\").show()"
   ]
  },
  {
   "cell_type": "markdown",
   "metadata": {},
   "source": [
    "### mi-to-provinces-2013-11-01.csv"
   ]
  },
  {
   "cell_type": "code",
   "execution_count": 20,
   "metadata": {},
   "outputs": [],
   "source": [
    "mitoprovincesDF = spark.read.load(\"/data/telecom/mi-to-provinces-2013-11-01.csv\",\n",
    "                    format='csv',\n",
    "                    sep = ',',\n",
    "                    header='true',\n",
    "                    inferSchema='true').cache()"
   ]
  },
  {
   "cell_type": "code",
   "execution_count": 21,
   "metadata": {},
   "outputs": [
    {
     "name": "stdout",
     "output_type": "stream",
     "text": [
      "+-------------------+------+------------+-------------+-------------+\n",
      "|           datetime|CellID|provinceName|cell2Province|Province2cell|\n",
      "+-------------------+------+------------+-------------+-------------+\n",
      "|2013-11-01 00:00:00|     1|      MILANO|       0.1894|       0.0541|\n",
      "|2013-11-01 00:00:00|     1|       PAVIA|       0.0273|         null|\n",
      "|2013-11-01 00:00:00|     1|      TRENTO|       0.0261|         null|\n",
      "+-------------------+------+------------+-------------+-------------+\n",
      "only showing top 3 rows\n",
      "\n"
     ]
    }
   ],
   "source": [
    "mitoprovincesDF.show(3)"
   ]
  },
  {
   "cell_type": "markdown",
   "metadata": {},
   "source": [
    "This dataset has the province names in capital letters, so we are going to update the DataFrame capitalizing the name of the province:"
   ]
  },
  {
   "cell_type": "code",
   "execution_count": 22,
   "metadata": {
    "scrolled": true
   },
   "outputs": [
    {
     "name": "stdout",
     "output_type": "stream",
     "text": [
      "+-------------------+------+------------+-------------+-------------+\n",
      "|           datetime|CellID|provinceName|cell2Province|Province2cell|\n",
      "+-------------------+------+------------+-------------+-------------+\n",
      "|2013-11-01 00:00:00|     1|      Milano|       0.1894|       0.0541|\n",
      "|2013-11-01 00:00:00|     1|       Pavia|       0.0273|         null|\n",
      "|2013-11-01 00:00:00|     1|      Trento|       0.0261|         null|\n",
      "+-------------------+------+------------+-------------+-------------+\n",
      "only showing top 3 rows\n",
      "\n"
     ]
    }
   ],
   "source": [
    "mitoprovincesDF = mitoprovincesDF.withColumn(\"provinceName\", initcap(mitoprovincesDF.provinceName))\n",
    "mitoprovincesDF.show(3)"
   ]
  },
  {
   "cell_type": "code",
   "execution_count": 23,
   "metadata": {},
   "outputs": [],
   "source": [
    "mitoprovincesDF.createOrReplaceTempView(\"mitoprovinces\")"
   ]
  },
  {
   "cell_type": "markdown",
   "metadata": {},
   "source": [
    "### sms-call-internet-mi-2013-11-01.csv"
   ]
  },
  {
   "cell_type": "code",
   "execution_count": 24,
   "metadata": {},
   "outputs": [],
   "source": [
    "cdrDF = spark.read.load(\"/data/telecom/sms-call-internet-mi-2013-11-01.csv\",\n",
    "                    format='csv',\n",
    "                    sep = ',',\n",
    "                    header='true',\n",
    "                    inferSchema='true').cache()"
   ]
  },
  {
   "cell_type": "code",
   "execution_count": 25,
   "metadata": {},
   "outputs": [
    {
     "name": "stdout",
     "output_type": "stream",
     "text": [
      "+-------------------+------+-----------+------+------+------+-------+--------+\n",
      "|           datetime|CellID|countrycode| smsin|smsout|callin|callout|internet|\n",
      "+-------------------+------+-----------+------+------+------+-------+--------+\n",
      "|2013-11-01 00:00:00|     1|          0|0.3521|  null|  null| 0.0273|    null|\n",
      "|2013-11-01 00:00:00|     1|         33|  null|  null|  null|   null|  0.0261|\n",
      "|2013-11-01 00:00:00|     1|         39|1.7322|1.1047|0.5919|  0.402| 57.7729|\n",
      "|2013-11-01 00:00:00|     2|          0|0.3581|  null|  null| 0.0273|    null|\n",
      "|2013-11-01 00:00:00|     2|         33|  null|  null|  null|   null|  0.0274|\n",
      "+-------------------+------+-----------+------+------+------+-------+--------+\n",
      "only showing top 5 rows\n",
      "\n"
     ]
    }
   ],
   "source": [
    "cdrDF.show(5)"
   ]
  },
  {
   "cell_type": "markdown",
   "metadata": {},
   "source": [
    "We can see that the dataset has a lot of **null** values, so we are going to replace them with some other value we define. "
   ]
  },
  {
   "cell_type": "code",
   "execution_count": 26,
   "metadata": {
    "scrolled": true
   },
   "outputs": [
    {
     "name": "stdout",
     "output_type": "stream",
     "text": [
      "+-------------------+------+-----------+------+------+------+-------+--------+\n",
      "|           datetime|CellID|countrycode| smsin|smsout|callin|callout|internet|\n",
      "+-------------------+------+-----------+------+------+------+-------+--------+\n",
      "|2013-11-01 00:00:00|     1|          0|0.3521|   0.0|   0.0| 0.0273|     0.0|\n",
      "|2013-11-01 00:00:00|     1|         33|   0.0|   0.0|   0.0|    0.0|  0.0261|\n",
      "|2013-11-01 00:00:00|     1|         39|1.7322|1.1047|0.5919|  0.402| 57.7729|\n",
      "|2013-11-01 00:00:00|     2|          0|0.3581|   0.0|   0.0| 0.0273|     0.0|\n",
      "|2013-11-01 00:00:00|     2|         33|   0.0|   0.0|   0.0|    0.0|  0.0274|\n",
      "+-------------------+------+-----------+------+------+------+-------+--------+\n",
      "only showing top 5 rows\n",
      "\n"
     ]
    }
   ],
   "source": [
    "cdrDF = cdrDF.na.fill(0)\n",
    "cdrDF.show(5)"
   ]
  },
  {
   "cell_type": "code",
   "execution_count": 27,
   "metadata": {},
   "outputs": [],
   "source": [
    "cdrDF.createOrReplaceTempView(\"cdr\")"
   ]
  },
  {
   "cell_type": "markdown",
   "metadata": {},
   "source": [
    "## Business use case"
   ]
  },
  {
   "cell_type": "markdown",
   "metadata": {},
   "source": [
    "At this point we have all the datasets loaded and cleaned, and all their temporal tables have been created.<br>\n",
    "We can check the creation of these tables by executing the following:"
   ]
  },
  {
   "cell_type": "code",
   "execution_count": 28,
   "metadata": {
    "scrolled": true
   },
   "outputs": [
    {
     "name": "stdout",
     "output_type": "stream",
     "text": [
      "+--------+-------------+-----------+\n",
      "|database|    tableName|isTemporary|\n",
      "+--------+-------------+-----------+\n",
      "|        |          cdr|       true|\n",
      "|        |mitoprovinces|       true|\n",
      "|        |    provinces|       true|\n",
      "+--------+-------------+-----------+\n",
      "\n"
     ]
    }
   ],
   "source": [
    "spark.sql(\"show tables\").show()"
   ]
  },
  {
   "cell_type": "markdown",
   "metadata": {},
   "source": [
    "**Note**<br>\n",
    "The focus on the notebook was the engineering part: Show how to load different file formats into Spark DataFrames, do some data wrangling on them, analyse the data and check difference between similar files, etc.<br>\n",
    "That's why the business use case is not going to be complex and only use one from the 4 original files (1 discarded after the comparison)."
   ]
  },
  {
   "cell_type": "markdown",
   "metadata": {},
   "source": [
    "### Spark SQL"
   ]
  },
  {
   "cell_type": "markdown",
   "metadata": {},
   "source": [
    "The idea is to create one final DataFrame that calculates the sum of activity of the different uses (GSM, SMS, Internet) for a group of countries."
   ]
  },
  {
   "cell_type": "code",
   "execution_count": 29,
   "metadata": {},
   "outputs": [],
   "source": [
    "aggcountryDF = spark.sql(\"\"\"select \n",
    "                                CASE countrycode\n",
    "                                    WHEN 7 THEN \"Russia\"\n",
    "                                    WHEN 33 THEN \"France\"\n",
    "                                    WHEN 34 THEN \"Spain\"\n",
    "                                    WHEN 39 THEN \"Italy\"\n",
    "                                    WHEN 44 THEN \"United Kingdom\"\n",
    "                                    WHEN 47 THEN \"Norway\"\n",
    "                                    WHEN 48 THEN \"Poland\"\n",
    "                                    WHEN 49 THEN \"Germany\"\n",
    "                                    WHEN 351 THEN \"Portugal\"\n",
    "                                    WHEN 420 THEN \"Czech Republic\"\n",
    "                                    ELSE \"_Others_\"\n",
    "                                END as country,\n",
    "                                round(sum(smsin),6) smsin, \n",
    "                                round(sum(smsout),6) smsout, \n",
    "                                round(sum(callin),6) callin, \n",
    "                                round(sum(callout),6) callout, \n",
    "                                round(sum(internet),6) internet\n",
    "                            from cdr\n",
    "                            where countrycode != 0\n",
    "                            group by country\n",
    "                            order by 1\n",
    "                            \"\"\")"
   ]
  },
  {
   "cell_type": "markdown",
   "metadata": {},
   "source": [
    "We can see here that Italy has most of the activity, and it makes sense since the data was gathered from that country:"
   ]
  },
  {
   "cell_type": "code",
   "execution_count": 30,
   "metadata": {
    "scrolled": true
   },
   "outputs": [
    {
     "name": "stdout",
     "output_type": "stream",
     "text": [
      "+--------------+------------+------------+------------+------------+---------------+\n",
      "|       country|       smsin|      smsout|      callin|     callout|       internet|\n",
      "+--------------+------------+------------+------------+------------+---------------+\n",
      "|Czech Republic|   2608.1169|   1437.8024|    733.0263|    544.2075|      5488.8842|\n",
      "|        France|  20495.0177|  13158.3234|    4527.906|   2984.4441|     36769.9342|\n",
      "|       Germany|   9549.2932|   2747.5518|   1960.2404|   1396.1923|     23737.9411|\n",
      "|         Italy|2889250.3153|2688729.4971|2560497.8263|2962224.2957|8.22452086458E7|\n",
      "|        Norway|    745.8405|    535.5974|    190.2444|    149.5543|       1913.018|\n",
      "|        Poland|   3821.9876|   1852.1156|   1176.1172|    861.9467|      3879.9327|\n",
      "|      Portugal|    616.0036|    358.1073|    288.9737|    128.8219|       459.4812|\n",
      "|        Russia|   8983.6104|   6108.6568|   4682.9862|    1710.748|      5509.7652|\n",
      "|         Spain|   2301.3214|   1428.7563|   2178.4545|   1665.4606|     11389.0908|\n",
      "|United Kingdom|  11509.6936|   11603.978|   3756.9092|   2954.2486|     23588.0875|\n",
      "|      _Others_|  93858.1746|  39013.8466|  37058.4407|  146847.885|    121281.0734|\n",
      "+--------------+------------+------------+------------+------------+---------------+\n",
      "\n"
     ]
    }
   ],
   "source": [
    "aggcountryDF.show()"
   ]
  },
  {
   "cell_type": "markdown",
   "metadata": {},
   "source": [
    "We can now save the previous DataFrame to a file (using **Parquet** format) in the disk so we don't have to recalculate every time all the steps:"
   ]
  },
  {
   "cell_type": "code",
   "execution_count": 31,
   "metadata": {},
   "outputs": [],
   "source": [
    "aggcountryDF.write.mode(\"overwrite\") \\\n",
    "            .format('parquet') \\\n",
    "            .save('/data/telecom/AggregatedCountries.parquet')"
   ]
  },
  {
   "cell_type": "markdown",
   "metadata": {},
   "source": [
    "Now with the file created, we can ask for its data using either the load function or SQL directly to it:"
   ]
  },
  {
   "cell_type": "code",
   "execution_count": 32,
   "metadata": {
    "scrolled": false
   },
   "outputs": [
    {
     "name": "stdout",
     "output_type": "stream",
     "text": [
      "+--------+\n",
      "|Province|\n",
      "+--------+\n",
      "|  NOVARA|\n",
      "|  TORINO|\n",
      "|VERCELLI|\n",
      "+--------+\n",
      "only showing top 3 rows\n",
      "\n",
      "+---------+\n",
      "|PROVINCIA|\n",
      "+---------+\n",
      "|   Novara|\n",
      "|   Torino|\n",
      "| Vercelli|\n",
      "+---------+\n",
      "only showing top 3 rows\n",
      "\n"
     ]
    }
   ],
   "source": [
    "spark.sql(\"SELECT upper(PROVINCIA) as Province FROM parquet.`/data/telecom/provinces.parquet`\").show(3)\n",
    "spark.read.load(\"/data/telecom/provinces.parquet\", format='parquet').show(3)"
   ]
  },
  {
   "cell_type": "markdown",
   "metadata": {},
   "source": [
    "### Visualization"
   ]
  },
  {
   "cell_type": "code",
   "execution_count": 33,
   "metadata": {},
   "outputs": [],
   "source": [
    "import matplotlib.pyplot as plt\n",
    "import numpy as np"
   ]
  },
  {
   "cell_type": "markdown",
   "metadata": {},
   "source": [
    "To be able to represent the data using the Matplotlib library, we first need to convert the **Spark** Dataframe to a **Pandas** DataFrame.<br>\n",
    "The representation of this new DataFrame type is similar to the previously seen:"
   ]
  },
  {
   "cell_type": "code",
   "execution_count": 34,
   "metadata": {
    "scrolled": true
   },
   "outputs": [
    {
     "name": "stdout",
     "output_type": "stream",
     "text": [
      "          country       smsin      smsout     callin    callout    internet\n",
      "0  Czech Republic   2608.1169   1437.8024   733.0263   544.2075   5488.8842\n",
      "1          France  20495.0177  13158.3234  4527.9060  2984.4441  36769.9342\n",
      "2         Germany   9549.2932   2747.5518  1960.2404  1396.1923  23737.9411\n",
      "3          Norway    745.8405    535.5974   190.2444   149.5543   1913.0180\n",
      "4          Poland   3821.9876   1852.1156  1176.1172   861.9467   3879.9327\n",
      "5        Portugal    616.0036    358.1073   288.9737   128.8219    459.4812\n",
      "6          Russia   8983.6104   6108.6568  4682.9862  1710.7480   5509.7652\n",
      "7           Spain   2301.3214   1428.7563  2178.4545  1665.4606  11389.0908\n",
      "8  United Kingdom  11509.6936  11603.9780  3756.9092  2954.2486  23588.0875\n"
     ]
    }
   ],
   "source": [
    "plotdf = aggcountryDF.where(\"country not in ('Italy','_Others_')\").toPandas()\n",
    "print(plotdf)"
   ]
  },
  {
   "cell_type": "markdown",
   "metadata": {},
   "source": [
    "Now we are going to generate 3 different plots, using the horizontal bar type:\n",
    "- **SMS in and out**: `Country` for X axis; fields `smsin` and `smsout` for the Y axis.\n",
    "- **Calls in and out**: `Country` for X axis; fields `callin` and `callout` for the Y axis.\n",
    "- **Internet access**: `Country` for X axis; field `internet` for the Y axis."
   ]
  },
  {
   "cell_type": "code",
   "execution_count": 35,
   "metadata": {
    "scrolled": false
   },
   "outputs": [
    {
     "data": {
      "text/plain": [
       "<matplotlib.axes._subplots.AxesSubplot at 0x7f3b53ac7b00>"
      ]
     },
     "execution_count": 35,
     "metadata": {},
     "output_type": "execute_result"
    },
    {
     "data": {
      "image/png": "[encoded data removed]",
      "text/plain": [
       "<Figure size 432x288 with 1 Axes>"
      ]
     },
     "metadata": {
      "needs_background": "light"
     },
     "output_type": "display_data"
    },
    {
     "data": {
      "image/png": "[encoded data removed]",
      "text/plain": [
       "<Figure size 432x288 with 1 Axes>"
      ]
     },
     "metadata": {
      "needs_background": "light"
     },
     "output_type": "display_data"
    },
    {
     "data": {
      "image/png": "[encoded data removed]",
      "text/plain": [
       "<Figure size 432x288 with 1 Axes>"
      ]
     },
     "metadata": {
      "needs_background": "light"
     },
     "output_type": "display_data"
    }
   ],
   "source": [
    "plotdf.plot(kind='barh', x='country', y=['smsin', 'smsout'], colormap='tab20b')\n",
    "plotdf.plot(kind='barh', x='country', y=['callin', 'callout'], colormap='tab10')\n",
    "plotdf.plot(kind='barh', x='country', y=['internet'], colormap='summer')"
   ]
  },
  {
   "cell_type": "markdown",
   "metadata": {},
   "source": [
    "## End Spark session\n",
    "\n",
    "Once we are done with the process, we can shutdown the Spark Session to let Spark master know that the application is finished consuming resources. "
   ]
  },
  {
   "cell_type": "code",
   "execution_count": 36,
   "metadata": {},
   "outputs": [],
   "source": [
    "spark.stop()"
   ]
  }
 ],
 "metadata": {
  "kernelspec": {
   "display_name": "Python 3",
   "language": "python",
   "name": "python3"
  },
  "language_info": {
   "codemirror_mode": {
    "name": "ipython",
    "version": 3
   },
   "file_extension": ".py",
   "mimetype": "text/x-python",
   "name": "python",
   "nbconvert_exporter": "python",
   "pygments_lexer": "ipython3",
   "version": "3.6.5"
  }
 },
 "nbformat": 4,
 "nbformat_minor": 2
}
